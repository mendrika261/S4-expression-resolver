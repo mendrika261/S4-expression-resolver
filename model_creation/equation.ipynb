{
 "cells": [
  {
   "cell_type": "code",
   "execution_count": 1,
   "metadata": {
    "collapsed": true,
    "ExecuteTime": {
     "end_time": "2023-05-17T19:04:41.823566Z",
     "start_time": "2023-05-17T19:04:35.853432Z"
    }
   },
   "outputs": [],
   "source": [
    "import os\n",
    "from os.path import isfile\n",
    "\n",
    "import pandas as pd\n",
    "from PIL import Image\n",
    "import matplotlib.pyplot as plt\n",
    "from sklearn.ensemble import RandomForestClassifier\n",
    "from sklearn.metrics import accuracy_score\n",
    "from sklearn.model_selection import train_test_split"
   ]
  },
  {
   "cell_type": "code",
   "execution_count": 2,
   "outputs": [],
   "source": [
    "df = pd.read_csv(\"data/A_Z Handwritten Data.csv\")"
   ],
   "metadata": {
    "collapsed": false,
    "ExecuteTime": {
     "end_time": "2023-05-17T19:06:55.353476Z",
     "start_time": "2023-05-17T19:06:41.999521Z"
    }
   }
  },
  {
   "cell_type": "code",
   "execution_count": 41,
   "outputs": [
    {
     "name": "stdout",
     "output_type": "stream",
     "text": [
      "[[255 255 255 255 255 255 255 255 255 255 255 255 255 255 255 255 255 255\n",
      "  255 255 255 255 255 255 255 255 255 255]\n",
      " [255 255 255 255 255 255 255 255 255 255 255 255 255 255 255 255 255 255\n",
      "  255 255 255 255 255 255 255 255 255 255]\n",
      " [255 255 255 255 255 255 255 255 255 255 255 255 255 255 255 255 255 255\n",
      "  255 255 255 255 255 255 255 255 255 255]\n",
      " [255 255 255 255 255 255 255 255 255 255 255 255 255 255 255 255 255 255\n",
      "    0   0   0 255 255 255 255 255 255 255]\n",
      " [255 255 255 255 255 255 255 255 255 255 255 255 255 255 255 255 255 255\n",
      "    0   0   0 255 255 255 255 255 255 255]\n",
      " [255 255 255 255 255 255 255   0   0   0 255 255 255 255 255 255 255 255\n",
      "    0   0   0 255 255 255 255 255 255 255]\n",
      " [255 255 255 255 255 255 255   0   0   0 255 255 255 255 255 255 255 255\n",
      "    0   0   0 255 255 255 255 255 255 255]\n",
      " [255 255 255 255 255 255 255   0   0   0 255 255 255 255 255 255 255 255\n",
      "    0   0   0 255 255 255 255 255 255 255]\n",
      " [255 255 255 255 255 255 255   0   0   0   0 255 255 255 255 255 255 255\n",
      "    0   0   0 255 255 255 255 255 255 255]\n",
      " [255 255 255 255 255 255 255   0   0   0   0 255 255 255 255 255 255 255\n",
      "    0   0   0 255 255 255 255 255 255 255]\n",
      " [255 255 255 255 255 255 255 255   0   0   0 255 255 255 255 255 255 255\n",
      "    0   0   0 255 255 255 255 255 255 255]\n",
      " [255 255 255 255 255 255 255 255   0   0   0 255 255 255 255 255 255   0\n",
      "    0   0 255 255 255 255 255 255 255 255]\n",
      " [255 255 255 255 255 255 255 255   0   0   0 255 255 255 255 255 255   0\n",
      "    0   0 255 255 255 255 255 255 255 255]\n",
      " [255 255 255 255 255 255 255 255   0   0   0   0   0   0 255 255 255   0\n",
      "    0   0 255 255 255 255 255 255 255 255]\n",
      " [255 255 255 255 255 255 255 255   0   0   0   0   0   0   0   0 255   0\n",
      "    0   0 255 255 255 255 255 255 255 255]\n",
      " [255 255 255 255 255 255 255 255   0   0   0   0   0   0   0   0   0   0\n",
      "    0   0 255 255 255 255 255 255 255 255]\n",
      " [255 255 255 255 255 255 255 255   0   0   0   0   0 255   0   0   0   0\n",
      "    0   0 255 255 255 255 255 255 255 255]\n",
      " [255 255 255 255 255 255 255 255   0   0   0   0 255 255   0   0   0   0\n",
      "    0   0 255 255 255 255 255 255 255 255]\n",
      " [255 255 255 255 255 255 255 255   0   0   0   0 255 255 255   0   0   0\n",
      "    0   0 255 255 255 255 255 255 255 255]\n",
      " [255 255 255 255 255 255 255 255   0   0   0   0 255 255 255   0   0   0\n",
      "    0   0 255 255 255 255 255 255 255 255]\n",
      " [255 255 255 255 255 255 255 255   0   0   0 255 255 255 255   0   0   0\n",
      "    0 255 255 255 255 255 255 255 255 255]\n",
      " [255 255 255 255 255 255 255 255   0   0   0 255 255 255 255 255   0   0\n",
      "    0 255 255 255 255 255 255 255 255 255]\n",
      " [255 255 255 255 255 255 255 255   0   0   0 255 255 255 255 255 255 255\n",
      "  255 255 255 255 255 255 255 255 255 255]\n",
      " [255 255 255 255 255 255 255 255 255 255 255 255 255 255 255 255 255 255\n",
      "  255 255 255 255 255 255 255 255 255 255]\n",
      " [255 255 255 255 255 255 255 255 255 255 255 255 255 255 255 255 255 255\n",
      "  255 255 255 255 255 255 255 255 255 255]\n",
      " [255 255 255 255 255 255 255 255 255 255 255 255 255 255 255 255 255 255\n",
      "  255 255 255 255 255 255 255 255 255 255]\n",
      " [255 255 255 255 255 255 255 255 255 255 255 255 255 255 255 255 255 255\n",
      "  255 255 255 255 255 255 255 255 255 255]]\n"
     ]
    },
    {
     "data": {
      "text/plain": "\"plt.imshow(cmap='gray', vmin=0, vmax=255, X=K_x.iloc[1].values.reshape(28, 28))\\nplt.show()\""
     },
     "execution_count": 41,
     "metadata": {},
     "output_type": "execute_result"
    }
   ],
   "source": [
    "def clean(value):\n",
    "    return 0 if value > 60 else 255\n",
    "\n",
    "dfK = df[df['0']==22]\n",
    "dfK = dfK.applymap(clean)\n",
    "dfK['0'] = ord('w')\n",
    "\n",
    "K_y = dfK['0']\n",
    "K_x = dfK.drop(columns=['0'])\n",
    "\n",
    "print(K_x.iloc[1].values.reshape(28, 28)[1:])\n",
    "plt.imshow(cmap='gray', vmin=0, vmax=255, X=K_x.iloc[1].values.reshape(28, 28))\n",
    "plt.show()"
   ],
   "metadata": {
    "collapsed": false,
    "ExecuteTime": {
     "end_time": "2023-05-13T10:34:06.436051Z",
     "start_time": "2023-05-13T10:34:04.511407Z"
    }
   }
  },
  {
   "cell_type": "markdown",
   "source": [],
   "metadata": {
    "collapsed": false
   }
  },
  {
   "cell_type": "code",
   "execution_count": 16,
   "outputs": [],
   "source": [
    "\n",
    "def get_directories_in(path='.'):\n",
    "    directories = []\n",
    "    files = os.listdir(path)\n",
    "    for file in files:\n",
    "        if not isfile(file) and not file.startswith('.'):\n",
    "            directories.append(f\"{path}/{file}\")\n",
    "    return directories\n",
    "\n",
    "\n",
    "def get_images_in(directory):\n",
    "    img_list = []\n",
    "    files = os.listdir(directory)\n",
    "    for file in files:\n",
    "        img_list.append(f\"{directory}/{file}\")\n",
    "    return img_list\n",
    "\n",
    "\n",
    "def get_all_image(path='.'):\n",
    "    directories = get_directories_in(path)\n",
    "    images = []\n",
    "    for directory in directories:\n",
    "        if not isfile(directory):\n",
    "            images.extend(get_images_in(directory))\n",
    "        else:\n",
    "            images.append(directory)\n",
    "    return images\n",
    "\n",
    "\n",
    "def convert(value):\n",
    "    return ord(value)\n",
    "\n",
    "\n",
    "def put_in_dataframe(data, image):\n",
    "    name = image\n",
    "    img = Image.open(name, 'r')\n",
    "    img = img.resize((28, 28))\n",
    "    info = name.split('/')[-1].split('_')[0]\n",
    "    row = [convert(info[0])]\n",
    "    row.extend(list(img.getdata()))\n",
    "    img.close()\n",
    "    return pd.concat([data, pd.DataFrame([row], columns=data.columns)], ignore_index=True)\n",
    "\n",
    "\n",
    "def build_dataframe(img_path='.'):\n",
    "    columns = ['0']\n",
    "    columns.extend([f\"0.{x}\" for x in range(1, 785)])\n",
    "    data = pd.DataFrame(columns=columns)\n",
    "    images = get_all_image(img_path)\n",
    "    i = 0\n",
    "    for img in images:\n",
    "        if i%32000==0:\n",
    "            print(i)\n",
    "        data = put_in_dataframe(data, img)\n",
    "        i += 1\n",
    "    return data\n"
   ],
   "metadata": {
    "collapsed": false,
    "ExecuteTime": {
     "end_time": "2023-05-12T08:21:43.937858Z",
     "start_time": "2023-05-12T08:21:43.934693Z"
    }
   }
  },
  {
   "cell_type": "code",
   "execution_count": 17,
   "outputs": [
    {
     "name": "stdout",
     "output_type": "stream",
     "text": [
      "0\n"
     ]
    },
    {
     "ename": "KeyboardInterrupt",
     "evalue": "",
     "output_type": "error",
     "traceback": [
      "\u001B[0;31m---------------------------------------------------------------------------\u001B[0m",
      "\u001B[0;31mKeyboardInterrupt\u001B[0m                         Traceback (most recent call last)",
      "Cell \u001B[0;32mIn[17], line 1\u001B[0m\n\u001B[0;32m----> 1\u001B[0m df1 \u001B[38;5;241m=\u001B[39m \u001B[43mbuild_dataframe\u001B[49m\u001B[43m(\u001B[49m\u001B[38;5;124;43m\"\u001B[39;49m\u001B[38;5;124;43m./data/CompleteImages/All data (Compressed)\u001B[39;49m\u001B[38;5;124;43m\"\u001B[39;49m\u001B[43m)\u001B[49m\n",
      "Cell \u001B[0;32mIn[16], line 53\u001B[0m, in \u001B[0;36mbuild_dataframe\u001B[0;34m(img_path)\u001B[0m\n\u001B[1;32m     51\u001B[0m     \u001B[38;5;28;01mif\u001B[39;00m i\u001B[38;5;241m%\u001B[39m\u001B[38;5;241m32000\u001B[39m\u001B[38;5;241m==\u001B[39m\u001B[38;5;241m0\u001B[39m:\n\u001B[1;32m     52\u001B[0m         \u001B[38;5;28mprint\u001B[39m(i)\n\u001B[0;32m---> 53\u001B[0m     data \u001B[38;5;241m=\u001B[39m \u001B[43mput_in_dataframe\u001B[49m\u001B[43m(\u001B[49m\u001B[43mdata\u001B[49m\u001B[43m,\u001B[49m\u001B[43m \u001B[49m\u001B[43mimg\u001B[49m\u001B[43m)\u001B[49m\n\u001B[1;32m     54\u001B[0m     i \u001B[38;5;241m+\u001B[39m\u001B[38;5;241m=\u001B[39m \u001B[38;5;241m1\u001B[39m\n\u001B[1;32m     55\u001B[0m \u001B[38;5;28;01mreturn\u001B[39;00m data\n",
      "Cell \u001B[0;32mIn[16], line 41\u001B[0m, in \u001B[0;36mput_in_dataframe\u001B[0;34m(data, image)\u001B[0m\n\u001B[1;32m     39\u001B[0m row\u001B[38;5;241m.\u001B[39mextend(\u001B[38;5;28mlist\u001B[39m(img\u001B[38;5;241m.\u001B[39mgetdata()))\n\u001B[1;32m     40\u001B[0m img\u001B[38;5;241m.\u001B[39mclose()\n\u001B[0;32m---> 41\u001B[0m \u001B[38;5;28;01mreturn\u001B[39;00m pd\u001B[38;5;241m.\u001B[39mconcat([data, \u001B[43mpd\u001B[49m\u001B[38;5;241;43m.\u001B[39;49m\u001B[43mDataFrame\u001B[49m\u001B[43m(\u001B[49m\u001B[43m[\u001B[49m\u001B[43mrow\u001B[49m\u001B[43m]\u001B[49m\u001B[43m,\u001B[49m\u001B[43m \u001B[49m\u001B[43mcolumns\u001B[49m\u001B[38;5;241;43m=\u001B[39;49m\u001B[43mdata\u001B[49m\u001B[38;5;241;43m.\u001B[39;49m\u001B[43mcolumns\u001B[49m\u001B[43m)\u001B[49m], ignore_index\u001B[38;5;241m=\u001B[39m\u001B[38;5;28;01mTrue\u001B[39;00m)\n",
      "File \u001B[0;32m/opt/homebrew/lib/python3.11/site-packages/pandas/core/frame.py:782\u001B[0m, in \u001B[0;36mDataFrame.__init__\u001B[0;34m(self, data, index, columns, dtype, copy)\u001B[0m\n\u001B[1;32m    780\u001B[0m     \u001B[38;5;28;01mif\u001B[39;00m columns \u001B[38;5;129;01mis\u001B[39;00m \u001B[38;5;129;01mnot\u001B[39;00m \u001B[38;5;28;01mNone\u001B[39;00m:\n\u001B[1;32m    781\u001B[0m         columns \u001B[38;5;241m=\u001B[39m ensure_index(columns)\n\u001B[0;32m--> 782\u001B[0m     arrays, columns, index \u001B[38;5;241m=\u001B[39m \u001B[43mnested_data_to_arrays\u001B[49m\u001B[43m(\u001B[49m\n\u001B[1;32m    783\u001B[0m \u001B[43m        \u001B[49m\u001B[38;5;66;43;03m# error: Argument 3 to \"nested_data_to_arrays\" has incompatible\u001B[39;49;00m\n\u001B[1;32m    784\u001B[0m \u001B[43m        \u001B[49m\u001B[38;5;66;43;03m# type \"Optional[Collection[Any]]\"; expected \"Optional[Index]\"\u001B[39;49;00m\n\u001B[1;32m    785\u001B[0m \u001B[43m        \u001B[49m\u001B[43mdata\u001B[49m\u001B[43m,\u001B[49m\n\u001B[1;32m    786\u001B[0m \u001B[43m        \u001B[49m\u001B[43mcolumns\u001B[49m\u001B[43m,\u001B[49m\n\u001B[1;32m    787\u001B[0m \u001B[43m        \u001B[49m\u001B[43mindex\u001B[49m\u001B[43m,\u001B[49m\u001B[43m  \u001B[49m\u001B[38;5;66;43;03m# type: ignore[arg-type]\u001B[39;49;00m\n\u001B[1;32m    788\u001B[0m \u001B[43m        \u001B[49m\u001B[43mdtype\u001B[49m\u001B[43m,\u001B[49m\n\u001B[1;32m    789\u001B[0m \u001B[43m    \u001B[49m\u001B[43m)\u001B[49m\n\u001B[1;32m    790\u001B[0m     mgr \u001B[38;5;241m=\u001B[39m arrays_to_mgr(\n\u001B[1;32m    791\u001B[0m         arrays,\n\u001B[1;32m    792\u001B[0m         columns,\n\u001B[0;32m   (...)\u001B[0m\n\u001B[1;32m    795\u001B[0m         typ\u001B[38;5;241m=\u001B[39mmanager,\n\u001B[1;32m    796\u001B[0m     )\n\u001B[1;32m    797\u001B[0m \u001B[38;5;28;01melse\u001B[39;00m:\n",
      "File \u001B[0;32m/opt/homebrew/lib/python3.11/site-packages/pandas/core/internals/construction.py:498\u001B[0m, in \u001B[0;36mnested_data_to_arrays\u001B[0;34m(data, columns, index, dtype)\u001B[0m\n\u001B[1;32m    495\u001B[0m \u001B[38;5;28;01mif\u001B[39;00m is_named_tuple(data[\u001B[38;5;241m0\u001B[39m]) \u001B[38;5;129;01mand\u001B[39;00m columns \u001B[38;5;129;01mis\u001B[39;00m \u001B[38;5;28;01mNone\u001B[39;00m:\n\u001B[1;32m    496\u001B[0m     columns \u001B[38;5;241m=\u001B[39m ensure_index(data[\u001B[38;5;241m0\u001B[39m]\u001B[38;5;241m.\u001B[39m_fields)\n\u001B[0;32m--> 498\u001B[0m arrays, columns \u001B[38;5;241m=\u001B[39m \u001B[43mto_arrays\u001B[49m\u001B[43m(\u001B[49m\u001B[43mdata\u001B[49m\u001B[43m,\u001B[49m\u001B[43m \u001B[49m\u001B[43mcolumns\u001B[49m\u001B[43m,\u001B[49m\u001B[43m \u001B[49m\u001B[43mdtype\u001B[49m\u001B[38;5;241;43m=\u001B[39;49m\u001B[43mdtype\u001B[49m\u001B[43m)\u001B[49m\n\u001B[1;32m    499\u001B[0m columns \u001B[38;5;241m=\u001B[39m ensure_index(columns)\n\u001B[1;32m    501\u001B[0m \u001B[38;5;28;01mif\u001B[39;00m index \u001B[38;5;129;01mis\u001B[39;00m \u001B[38;5;28;01mNone\u001B[39;00m:\n",
      "File \u001B[0;32m/opt/homebrew/lib/python3.11/site-packages/pandas/core/internals/construction.py:840\u001B[0m, in \u001B[0;36mto_arrays\u001B[0;34m(data, columns, dtype)\u001B[0m\n\u001B[1;32m    837\u001B[0m     data \u001B[38;5;241m=\u001B[39m [\u001B[38;5;28mtuple\u001B[39m(x) \u001B[38;5;28;01mfor\u001B[39;00m x \u001B[38;5;129;01min\u001B[39;00m data]\n\u001B[1;32m    838\u001B[0m     arr \u001B[38;5;241m=\u001B[39m _list_to_arrays(data)\n\u001B[0;32m--> 840\u001B[0m content, columns \u001B[38;5;241m=\u001B[39m \u001B[43m_finalize_columns_and_data\u001B[49m\u001B[43m(\u001B[49m\u001B[43marr\u001B[49m\u001B[43m,\u001B[49m\u001B[43m \u001B[49m\u001B[43mcolumns\u001B[49m\u001B[43m,\u001B[49m\u001B[43m \u001B[49m\u001B[43mdtype\u001B[49m\u001B[43m)\u001B[49m\n\u001B[1;32m    841\u001B[0m \u001B[38;5;28;01mreturn\u001B[39;00m content, columns\n",
      "File \u001B[0;32m/opt/homebrew/lib/python3.11/site-packages/pandas/core/internals/construction.py:940\u001B[0m, in \u001B[0;36m_finalize_columns_and_data\u001B[0;34m(content, columns, dtype)\u001B[0m\n\u001B[1;32m    937\u001B[0m     \u001B[38;5;28;01mraise\u001B[39;00m \u001B[38;5;167;01mValueError\u001B[39;00m(err) \u001B[38;5;28;01mfrom\u001B[39;00m \u001B[38;5;21;01merr\u001B[39;00m\n\u001B[1;32m    939\u001B[0m \u001B[38;5;28;01mif\u001B[39;00m \u001B[38;5;28mlen\u001B[39m(contents) \u001B[38;5;129;01mand\u001B[39;00m contents[\u001B[38;5;241m0\u001B[39m]\u001B[38;5;241m.\u001B[39mdtype \u001B[38;5;241m==\u001B[39m np\u001B[38;5;241m.\u001B[39mobject_:\n\u001B[0;32m--> 940\u001B[0m     contents \u001B[38;5;241m=\u001B[39m \u001B[43mconvert_object_array\u001B[49m\u001B[43m(\u001B[49m\u001B[43mcontents\u001B[49m\u001B[43m,\u001B[49m\u001B[43m \u001B[49m\u001B[43mdtype\u001B[49m\u001B[38;5;241;43m=\u001B[39;49m\u001B[43mdtype\u001B[49m\u001B[43m)\u001B[49m\n\u001B[1;32m    942\u001B[0m \u001B[38;5;28;01mreturn\u001B[39;00m contents, columns\n",
      "File \u001B[0;32m/opt/homebrew/lib/python3.11/site-packages/pandas/core/internals/construction.py:1067\u001B[0m, in \u001B[0;36mconvert_object_array\u001B[0;34m(content, dtype, dtype_backend, coerce_float)\u001B[0m\n\u001B[1;32m   1063\u001B[0m             arr \u001B[38;5;241m=\u001B[39m maybe_cast_to_datetime(arr, dtype)\n\u001B[1;32m   1065\u001B[0m     \u001B[38;5;28;01mreturn\u001B[39;00m arr\n\u001B[0;32m-> 1067\u001B[0m arrays \u001B[38;5;241m=\u001B[39m \u001B[43m[\u001B[49m\u001B[43mconvert\u001B[49m\u001B[43m(\u001B[49m\u001B[43marr\u001B[49m\u001B[43m)\u001B[49m\u001B[43m \u001B[49m\u001B[38;5;28;43;01mfor\u001B[39;49;00m\u001B[43m \u001B[49m\u001B[43marr\u001B[49m\u001B[43m \u001B[49m\u001B[38;5;129;43;01min\u001B[39;49;00m\u001B[43m \u001B[49m\u001B[43mcontent\u001B[49m\u001B[43m]\u001B[49m\n\u001B[1;32m   1069\u001B[0m \u001B[38;5;28;01mreturn\u001B[39;00m arrays\n",
      "File \u001B[0;32m/opt/homebrew/lib/python3.11/site-packages/pandas/core/internals/construction.py:1067\u001B[0m, in \u001B[0;36m<listcomp>\u001B[0;34m(.0)\u001B[0m\n\u001B[1;32m   1063\u001B[0m             arr \u001B[38;5;241m=\u001B[39m maybe_cast_to_datetime(arr, dtype)\n\u001B[1;32m   1065\u001B[0m     \u001B[38;5;28;01mreturn\u001B[39;00m arr\n\u001B[0;32m-> 1067\u001B[0m arrays \u001B[38;5;241m=\u001B[39m [\u001B[43mconvert\u001B[49m\u001B[43m(\u001B[49m\u001B[43marr\u001B[49m\u001B[43m)\u001B[49m \u001B[38;5;28;01mfor\u001B[39;00m arr \u001B[38;5;129;01min\u001B[39;00m content]\n\u001B[1;32m   1069\u001B[0m \u001B[38;5;28;01mreturn\u001B[39;00m arrays\n",
      "File \u001B[0;32m/opt/homebrew/lib/python3.11/site-packages/pandas/core/internals/construction.py:1025\u001B[0m, in \u001B[0;36mconvert_object_array.<locals>.convert\u001B[0;34m(arr)\u001B[0m\n\u001B[1;32m   1023\u001B[0m \u001B[38;5;28;01mdef\u001B[39;00m \u001B[38;5;21mconvert\u001B[39m(arr):\n\u001B[1;32m   1024\u001B[0m     \u001B[38;5;28;01mif\u001B[39;00m dtype \u001B[38;5;241m!=\u001B[39m np\u001B[38;5;241m.\u001B[39mdtype(\u001B[38;5;124m\"\u001B[39m\u001B[38;5;124mO\u001B[39m\u001B[38;5;124m\"\u001B[39m):\n\u001B[0;32m-> 1025\u001B[0m         arr \u001B[38;5;241m=\u001B[39m \u001B[43mlib\u001B[49m\u001B[38;5;241;43m.\u001B[39;49m\u001B[43mmaybe_convert_objects\u001B[49m\u001B[43m(\u001B[49m\n\u001B[1;32m   1026\u001B[0m \u001B[43m            \u001B[49m\u001B[43marr\u001B[49m\u001B[43m,\u001B[49m\n\u001B[1;32m   1027\u001B[0m \u001B[43m            \u001B[49m\u001B[43mtry_float\u001B[49m\u001B[38;5;241;43m=\u001B[39;49m\u001B[43mcoerce_float\u001B[49m\u001B[43m,\u001B[49m\n\u001B[1;32m   1028\u001B[0m \u001B[43m            \u001B[49m\u001B[43mconvert_to_nullable_dtype\u001B[49m\u001B[38;5;241;43m=\u001B[39;49m\u001B[43mdtype_backend\u001B[49m\u001B[43m \u001B[49m\u001B[38;5;241;43m!=\u001B[39;49m\u001B[43m \u001B[49m\u001B[38;5;124;43m\"\u001B[39;49m\u001B[38;5;124;43mnumpy\u001B[39;49m\u001B[38;5;124;43m\"\u001B[39;49m\u001B[43m,\u001B[49m\n\u001B[1;32m   1029\u001B[0m \u001B[43m        \u001B[49m\u001B[43m)\u001B[49m\n\u001B[1;32m   1030\u001B[0m         \u001B[38;5;66;03m# Notes on cases that get here 2023-02-15\u001B[39;00m\n\u001B[1;32m   1031\u001B[0m         \u001B[38;5;66;03m# 1) we DO get here when arr is all Timestamps and dtype=None\u001B[39;00m\n\u001B[1;32m   1032\u001B[0m         \u001B[38;5;66;03m# 2) disabling this doesn't break the world, so this must be\u001B[39;00m\n\u001B[1;32m   1033\u001B[0m         \u001B[38;5;66;03m#    getting caught at a higher level\u001B[39;00m\n\u001B[1;32m   1034\u001B[0m         \u001B[38;5;66;03m# 3) passing convert_datetime to maybe_convert_objects get this right\u001B[39;00m\n\u001B[1;32m   1035\u001B[0m         \u001B[38;5;66;03m# 4) convert_timedelta?\u001B[39;00m\n\u001B[1;32m   1037\u001B[0m         \u001B[38;5;28;01mif\u001B[39;00m dtype \u001B[38;5;129;01mis\u001B[39;00m \u001B[38;5;28;01mNone\u001B[39;00m:\n",
      "\u001B[0;31mKeyboardInterrupt\u001B[0m: "
     ]
    }
   ],
   "source": [
    "df1 = build_dataframe(\"./data/CompleteImages/All data (Compressed)\")"
   ],
   "metadata": {
    "collapsed": false,
    "ExecuteTime": {
     "end_time": "2023-05-12T08:31:12.569528Z",
     "start_time": "2023-05-12T08:21:50.306046Z"
    }
   }
  },
  {
   "cell_type": "code",
   "execution_count": null,
   "outputs": [],
   "source": [
    "df1.to_parquet('data.parquet')\n"
   ],
   "metadata": {
    "collapsed": false
   }
  },
  {
   "cell_type": "code",
   "execution_count": 31,
   "outputs": [
    {
     "name": "stdout",
     "output_type": "stream",
     "text": [
      "(42784, 785)\n"
     ]
    },
    {
     "data": {
      "text/plain": "<Figure size 640x480 with 1 Axes>",
      "image/png": "[encoded data removed]"
     },
     "metadata": {},
     "output_type": "display_data"
    }
   ],
   "source": [
    "df1=pd.read_parquet('data.parquet.32000')\n",
    "df1=pd.concat([df1, pd.DataFrame(dfK.values, columns=df1.columns)], ignore_index=True)\n",
    "print(df1.shape)\n",
    "plt.imshow(cmap='gray', vmin=0, vmax=255, X=df1.iloc[5, 1:].values.reshape(28, 28))\n",
    "plt.show()"
   ],
   "metadata": {
    "collapsed": false,
    "ExecuteTime": {
     "end_time": "2023-05-13T10:29:09.219428Z",
     "start_time": "2023-05-13T10:29:08.743197Z"
    }
   }
  },
  {
   "cell_type": "code",
   "execution_count": null,
   "outputs": [],
   "source": [],
   "metadata": {
    "collapsed": false
   }
  }
 ],
 "metadata": {
  "kernelspec": {
   "display_name": "Python 3",
   "language": "python",
   "name": "python3"
  },
  "language_info": {
   "codemirror_mode": {
    "name": "ipython",
    "version": 2
   },
   "file_extension": ".py",
   "mimetype": "text/x-python",
   "name": "python",
   "nbconvert_exporter": "python",
   "pygments_lexer": "ipython2",
   "version": "2.7.6"
  }
 },
 "nbformat": 4,
 "nbformat_minor": 0
}
