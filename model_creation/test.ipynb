{
 "cells": [
  {
   "cell_type": "code",
   "execution_count": 1,
   "metadata": {
    "collapsed": true,
    "ExecuteTime": {
     "end_time": "2023-05-18T10:52:09.978405Z",
     "start_time": "2023-05-18T10:52:07.677367Z"
    }
   },
   "outputs": [],
   "source": [
    "import os\n",
    "from os.path import isfile\n",
    "\n",
    "import numpy as np\n",
    "import pandas as pd\n",
    "from PIL import Image\n",
    "import matplotlib.pyplot as plt"
   ]
  },
  {
   "cell_type": "code",
   "execution_count": 2,
   "outputs": [],
   "source": [
    "df = pd.read_csv(\"data/A_Z Handwritten Data.csv\")"
   ],
   "metadata": {
    "collapsed": false,
    "ExecuteTime": {
     "end_time": "2023-05-18T10:52:23.063173Z",
     "start_time": "2023-05-18T10:52:09.973257Z"
    }
   }
  },
  {
   "cell_type": "code",
   "execution_count": 3,
   "outputs": [
    {
     "name": "stdout",
     "output_type": "stream",
     "text": [
      "          0  0.1  0.2  0.3  0.4  0.5  0.6  0.7  0.8  0.9  ...  0.639  0.640   \n",
      "338459  119  255  255  255  255  255  255  255  255  255  ...    255    255  \\\n",
      "338460  119  255  255  255  255  255  255  255  255  255  ...    255    255   \n",
      "338461  119  255  255  255  255  255  255  255  255  255  ...    255    255   \n",
      "338462  119  255  255  255  255  255  255  255  255  255  ...    255    255   \n",
      "338463  119  255  255  255  255  255  255  255  255  255  ...    255    255   \n",
      "...     ...  ...  ...  ...  ...  ...  ...  ...  ...  ...  ...    ...    ...   \n",
      "349238  119  255  255  255  255  255  255  255  255  255  ...    255    255   \n",
      "349239  119  255  255  255  255  255  255  255  255  255  ...    255    255   \n",
      "349240  119  255  255  255  255  255  255  255  255  255  ...    255    255   \n",
      "349241  119  255  255  255  255  255  255  255  255  255  ...    255    255   \n",
      "349242  119  255  255  255  255  255  255  255  255  255  ...    255    255   \n",
      "\n",
      "        0.641  0.642  0.643  0.644  0.645  0.646  0.647  0.648  \n",
      "338459    255    255    255    255    255    255    255    255  \n",
      "338460    255    255    255    255    255    255    255    255  \n",
      "338461    255    255    255    255    255    255    255    255  \n",
      "338462    255    255    255    255    255    255    255    255  \n",
      "338463    255    255    255    255    255    255    255    255  \n",
      "...       ...    ...    ...    ...    ...    ...    ...    ...  \n",
      "349238    255    255    255    255    255    255    255    255  \n",
      "349239    255    255    255    255    255    255    255    255  \n",
      "349240    255    255    255    255    255    255    255    255  \n",
      "349241    255    255    255    255    255    255    255    255  \n",
      "349242    255    255    255    255    255    255    255    255  \n",
      "\n",
      "[10784 rows x 785 columns]\n"
     ]
    }
   ],
   "source": [
    "def clean(value):\n",
    "    return 0 if value > 60 else 255\n",
    "\n",
    "dfK = df[df['0']==22]\n",
    "dfK = dfK.applymap(clean)\n",
    "dfK['0'] = ord('w')\n",
    "\n",
    "print(dfK)"
   ],
   "metadata": {
    "collapsed": false,
    "ExecuteTime": {
     "end_time": "2023-05-18T10:52:24.903945Z",
     "start_time": "2023-05-18T10:52:23.067483Z"
    }
   }
  },
  {
   "cell_type": "code",
   "execution_count": null,
   "outputs": [],
   "source": [],
   "metadata": {
    "collapsed": false
   }
  },
  {
   "cell_type": "code",
   "execution_count": 25,
   "outputs": [
    {
     "data": {
      "text/plain": "\"plt.imshow(cmap='gray', vmin=0, vmax=255, X=X_to_mod)\\nplt.show()\""
     },
     "execution_count": 25,
     "metadata": {},
     "output_type": "execute_result"
    }
   ],
   "source": [
    "def rescale_image(row_x):\n",
    "    x_to_mod = row_x.values.reshape(28, 28)\n",
    "\n",
    "    # Remove rows with completely white pixels\n",
    "    non_empty_rows = np.where(np.mean(x_to_mod, axis=1) < 255)[0]\n",
    "    x_to_mod = x_to_mod[non_empty_rows]\n",
    "\n",
    "    # Remove columns with completely white pixels\n",
    "    non_empty_columns = np.where(np.mean(x_to_mod, axis=0) < 255)[0]\n",
    "    x_to_mod = x_to_mod[:, non_empty_columns]\n",
    "\n",
    "    # Convert the modified NumPy array to a PIL image\n",
    "    x_to_mod = np.uint8(x_to_mod)\n",
    "    image = Image.fromarray(x_to_mod)\n",
    "\n",
    "    # Define the new size\n",
    "    new_size = (28, 28)\n",
    "\n",
    "    # Resize the image using resize() with the LANCZOS filter\n",
    "    resized_image = image.resize(new_size, resample=Image.LANCZOS)\n",
    "\n",
    "    return resized_image.getdata()\n",
    "\n",
    "\n",
    "\"\"\"plt.imshow(cmap='gray', vmin=0, vmax=255, X=X_to_mod)\n",
    "plt.show()\"\"\""
   ],
   "metadata": {
    "collapsed": false,
    "ExecuteTime": {
     "end_time": "2023-05-18T11:18:25.220875Z",
     "start_time": "2023-05-18T11:18:25.207979Z"
    }
   }
  },
  {
   "cell_type": "code",
   "execution_count": 52,
   "outputs": [
    {
     "name": "stdout",
     "output_type": "stream",
     "text": [
      "Help on function mean in module numpy:\n",
      "\n",
      "mean(a, axis=None, dtype=None, out=None, keepdims=<no value>, *, where=<no value>)\n",
      "    Compute the arithmetic mean along the specified axis.\n",
      "    \n",
      "    Returns the average of the array elements.  The average is taken over\n",
      "    the flattened array by default, otherwise over the specified axis.\n",
      "    `float64` intermediate and return values are used for integer inputs.\n",
      "    \n",
      "    Parameters\n",
      "    ----------\n",
      "    a : array_like\n",
      "        Array containing numbers whose mean is desired. If `a` is not an\n",
      "        array, a conversion is attempted.\n",
      "    axis : None or int or tuple of ints, optional\n",
      "        Axis or axes along which the means are computed. The default is to\n",
      "        compute the mean of the flattened array.\n",
      "    \n",
      "        .. versionadded:: 1.7.0\n",
      "    \n",
      "        If this is a tuple of ints, a mean is performed over multiple axes,\n",
      "        instead of a single axis or all the axes as before.\n",
      "    dtype : data-type, optional\n",
      "        Type to use in computing the mean.  For integer inputs, the default\n",
      "        is `float64`; for floating point inputs, it is the same as the\n",
      "        input dtype.\n",
      "    out : ndarray, optional\n",
      "        Alternate output array in which to place the result.  The default\n",
      "        is ``None``; if provided, it must have the same shape as the\n",
      "        expected output, but the type will be cast if necessary.\n",
      "        See :ref:`ufuncs-output-type` for more details.\n",
      "    \n",
      "    keepdims : bool, optional\n",
      "        If this is set to True, the axes which are reduced are left\n",
      "        in the result as dimensions with size one. With this option,\n",
      "        the result will broadcast correctly against the input array.\n",
      "    \n",
      "        If the default value is passed, then `keepdims` will not be\n",
      "        passed through to the `mean` method of sub-classes of\n",
      "        `ndarray`, however any non-default value will be.  If the\n",
      "        sub-class' method does not implement `keepdims` any\n",
      "        exceptions will be raised.\n",
      "    \n",
      "    where : array_like of bool, optional\n",
      "        Elements to include in the mean. See `~numpy.ufunc.reduce` for details.\n",
      "    \n",
      "        .. versionadded:: 1.20.0\n",
      "    \n",
      "    Returns\n",
      "    -------\n",
      "    m : ndarray, see dtype parameter above\n",
      "        If `out=None`, returns a new array containing the mean values,\n",
      "        otherwise a reference to the output array is returned.\n",
      "    \n",
      "    See Also\n",
      "    --------\n",
      "    average : Weighted average\n",
      "    std, var, nanmean, nanstd, nanvar\n",
      "    \n",
      "    Notes\n",
      "    -----\n",
      "    The arithmetic mean is the sum of the elements along the axis divided\n",
      "    by the number of elements.\n",
      "    \n",
      "    Note that for floating-point input, the mean is computed using the\n",
      "    same precision the input has.  Depending on the input data, this can\n",
      "    cause the results to be inaccurate, especially for `float32` (see\n",
      "    example below).  Specifying a higher-precision accumulator using the\n",
      "    `dtype` keyword can alleviate this issue.\n",
      "    \n",
      "    By default, `float16` results are computed using `float32` intermediates\n",
      "    for extra precision.\n",
      "    \n",
      "    Examples\n",
      "    --------\n",
      "    >>> a = np.array([[1, 2], [3, 4]])\n",
      "    >>> np.mean(a)\n",
      "    2.5\n",
      "    >>> np.mean(a, axis=0)\n",
      "    array([2., 3.])\n",
      "    >>> np.mean(a, axis=1)\n",
      "    array([1.5, 3.5])\n",
      "    \n",
      "    In single precision, `mean` can be inaccurate:\n",
      "    \n",
      "    >>> a = np.zeros((2, 512*512), dtype=np.float32)\n",
      "    >>> a[0, :] = 1.0\n",
      "    >>> a[1, :] = 0.1\n",
      "    >>> np.mean(a)\n",
      "    0.54999924\n",
      "    \n",
      "    Computing the mean in float64 is more accurate:\n",
      "    \n",
      "    >>> np.mean(a, dtype=np.float64)\n",
      "    0.55000000074505806 # may vary\n",
      "    \n",
      "    Specifying a where argument:\n",
      "    \n",
      "    >>> a = np.array([[5, 9, 13], [14, 10, 12], [11, 15, 19]])\n",
      "    >>> np.mean(a)\n",
      "    12.0\n",
      "    >>> np.mean(a, where=[[True], [False], [False]])\n",
      "    9.0\n",
      "\n"
     ]
    }
   ],
   "source": [],
   "metadata": {
    "collapsed": false,
    "ExecuteTime": {
     "end_time": "2023-05-13T11:00:36.884684Z",
     "start_time": "2023-05-13T11:00:36.880965Z"
    }
   }
  },
  {
   "cell_type": "code",
   "execution_count": null,
   "outputs": [],
   "source": [],
   "metadata": {
    "collapsed": false
   }
  }
 ],
 "metadata": {
  "kernelspec": {
   "display_name": "Python 3",
   "language": "python",
   "name": "python3"
  },
  "language_info": {
   "codemirror_mode": {
    "name": "ipython",
    "version": 2
   },
   "file_extension": ".py",
   "mimetype": "text/x-python",
   "name": "python",
   "nbconvert_exporter": "python",
   "pygments_lexer": "ipython2",
   "version": "2.7.6"
  }
 },
 "nbformat": 4,
 "nbformat_minor": 0
}
